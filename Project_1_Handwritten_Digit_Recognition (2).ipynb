{
  "nbformat": 4,
  "nbformat_minor": 0,
  "metadata": {
    "colab": {
      "provenance": []
    },
    "kernelspec": {
      "name": "python3",
      "display_name": "Python 3"
    },
    "language_info": {
      "name": "python"
    }
  },
  "cells": [
    {
      "cell_type": "markdown",
      "source": [
        "# Handwritten Digit Recognition Project 🚀\n",
        "\n",
        "Welcome to our exciting journey into the world of Deep Learning! In this project, you'll dive into the fascinating realm of handwritten digit recognition using PyTorch, one of the most popular machine learning libraries. 🧠💻\n",
        "\n",
        "## Project Overview 📝\n",
        "\n",
        "Your mission, should you choose to accept it, involves building and optimizing a PyTorch model to recognize handwritten digits from the MNIST dataset. This dataset is like the 'Hello World' of machine learning, perfect for beginners and yet intriguing for experienced coders. 🌟\n",
        "\n",
        "## Learning Objectives 🎯\n",
        "\n",
        "- **Understanding PyTorch**: Get hands-on experience with PyTorch, understanding its basic operations and how to build models with it.\n",
        "- **Model Optimization**: Explore various training optimization techniques such as adding dropout layers, implementing regularizers, and utilizing early stopping to enhance model performance.\n",
        "- **Experimentation**: Test different hyperparameters and observe how they impact your model's learning process and accuracy.\n",
        "\n",
        "## Project Structure 🗂️\n",
        "\n",
        "- **Data Preprocessing**: Learn how to prepare your data for optimal model training.\n",
        "- **Model Building**: Design a neural network architecture suitable for digit recognition.\n",
        "- **Training and Testing**: Implement the training loop, and test your model's performance.\n",
        "- **Optimization Techniques**: Apply different optimization strategies to improve your model.\n",
        "\n",
        "## TODOs 📌\n",
        "\n",
        "Throughout this notebook, you'll find `TODO` sections. These are areas where you'll need to apply what you've learned and write your own code. Don't worry, though; guidance and hints are provided to help you on your journey!\n",
        "\n",
        "So, are you ready to embark on this adventure in machine learning? Let's get started! 🚀👩‍💻👨‍💻\n",
        "\n",
        "---\n",
        "\n",
        "Remember, the goal of this project is not just to build a model but to experiment and learn. Every challenge you encounter is an opportunity to grow. Let's do this! 💪\n"
      ],
      "metadata": {
        "id": "NAsgDbOhyWgZ"
      }
    },
    {
      "cell_type": "markdown",
      "source": [
        "## Loading the MNIST Dataset 📚\n",
        "\n",
        "Before diving into the model building, the first crucial step is to load our dataset. In this section, you'll learn how to load and visualize the MNIST dataset, which is a collection of 70,000 grayscale images of handwritten digits (0 through 9). This dataset is widely used for training and testing in the field of machine learning. 🤖📈\n",
        "\n"
      ],
      "metadata": {
        "id": "ivgWP56HytSS"
      }
    },
    {
      "cell_type": "code",
      "execution_count": null,
      "metadata": {
        "id": "r2xTBOMDx53Z"
      },
      "outputs": [],
      "source": [
        "# Import necessary libraries\n",
        "import torch\n",
        "from torchvision import datasets, transforms\n",
        "from torch.utils.data import DataLoader , random_split\n",
        "\n",
        "# TODO: Define a transform to normalize the data\n",
        "transform = transforms.Compose([transforms.ToTensor(),\n",
        "    transforms.Normalize((0.5,), (0.5,))\n",
        "])\n",
        "\n",
        "# TODO: Load the MNIST dataset\n",
        "train_set = datasets.MNIST(root='./data', train=True, download=True, transform=transform)\n",
        "train_size = int(0.8 * len(train_set))\n",
        "validation_size = len(train_set) - train_size\n",
        "train_set, validation_set = random_split(train_set, [train_size, validation_size])\n",
        "\n",
        "test_set = datasets.MNIST(root='./data', train=False, download=True, transform=transform)\n",
        "\n",
        "# TODO: Create data loaders\n",
        "train_loader = DataLoader(train_set, batch_size=64, shuffle=True)\n",
        "validation_loader = DataLoader(validation_set, batch_size=64, shuffle=False)\n",
        "test_loader = DataLoader(test_set, batch_size=64, shuffle=False)"
      ]
    },
    {
      "cell_type": "code",
      "source": [
        "# TODO: Figure out how many images are in the train_set and test_set.\n",
        "number_train_images = len(train_set)\n",
        "number_test_images = len(test_set)\n",
        "\n",
        "print(f'Number of training images: {number_train_images}')\n",
        "print(f'Number of test images: {number_test_images}')"
      ],
      "metadata": {
        "id": "w3OXyKQjy_zb",
        "colab": {
          "base_uri": "https://localhost:8080/"
        },
        "outputId": "b2ebada7-19a4-4526-b601-8d41ea4e7ac6"
      },
      "execution_count": null,
      "outputs": [
        {
          "output_type": "stream",
          "name": "stdout",
          "text": [
            "Number of training images: 48000\n",
            "Number of test images: 10000\n"
          ]
        }
      ]
    },
    {
      "cell_type": "markdown",
      "source": [
        "## Building the Neural Network Model 🛠️\n",
        "\n",
        "Now that our dataset is ready, it's time to build the neural network model that will learn to recognize handwritten digits. In this section, you will define the architecture of your neural network.\n",
        "\n",
        "### Key Concepts:\n",
        "- **Layers**: Neural networks are composed of layers. Each layer has a specific role, like convolutional layers for feature extraction or fully connected (dense) layers for decision making.\n",
        "- **Activation Functions**: These functions introduce non-linear properties to the network, allowing it to learn more complex patterns."
      ],
      "metadata": {
        "id": "LKFfUT-ozFA7"
      }
    },
    {
      "cell_type": "code",
      "source": [
        "# Import necessary PyTorch libraries\n",
        "import torch.nn as nn\n",
        "import torch.nn.functional as F\n",
        "\n",
        "# TODO: Define the neural network class\n",
        "class Net(nn.Module):\n",
        "    def __init__(self):\n",
        "        super(Net, self).__init__()\n",
        "        # TODO: Define layers of the neural network\n",
        "        self.fc1 = nn.Linear(28 * 28, 128)  # First fully connected layer\n",
        "        self.fc2 = nn.Linear(128, 64)  # Second fully connected layer\n",
        "        self.fc3 = nn.Linear(64, 10)  # Output layer (10 classes for MNIST)\n",
        "\n",
        "    def forward(self, x):\n",
        "        # Flatten the input tensor\n",
        "        x = x.view(-1, 28 * 28)\n",
        "        x = F.relu(self.fc1(x))  # first fully connected layer activation function\n",
        "        x = F.relu(self.fc2(x))  # second fully connected layer activation function\n",
        "        x=self.fc3(x)            # Output layer\n",
        "        return x\n",
        "\n",
        "# Create an instance of the network\n",
        "model = Net()\n",
        "print(model)"
      ],
      "metadata": {
        "id": "SDoUc4dzzZMu",
        "colab": {
          "base_uri": "https://localhost:8080/"
        },
        "outputId": "b7c1e418-fb12-4026-d0c4-6f0745e36051"
      },
      "execution_count": null,
      "outputs": [
        {
          "output_type": "stream",
          "name": "stdout",
          "text": [
            "Net(\n",
            "  (fc1): Linear(in_features=784, out_features=128, bias=True)\n",
            "  (fc2): Linear(in_features=128, out_features=64, bias=True)\n",
            "  (fc3): Linear(in_features=64, out_features=10, bias=True)\n",
            ")\n"
          ]
        }
      ]
    },
    {
      "cell_type": "markdown",
      "source": [
        "## Training the Neural Network Model 🏋️‍♀️🏋️‍♂️\n",
        "\n",
        "With our neural network model defined, the next exciting step is to train it. This process involves feeding the training data to the model and adjusting the model parameters (weights and biases) based on the computed loss and the chosen optimization algorithm.\n",
        "\n",
        "### Key Concepts:\n",
        "- **Loss Function**: Measures how well the model performs. A common choice for classification tasks is Cross-Entropy Loss.\n",
        "- **Optimizer**: Helps in updating the model parameters based on the computed gradients. We'll be using Stochastic Gradient Descent (SGD) in this example.\n",
        "- **Epochs**: One epoch means the model has seen the entire dataset once. Training for multiple epochs means going through the dataset multiple times.\n",
        "\n"
      ],
      "metadata": {
        "id": "J9VnJDBDz2QU"
      }
    },
    {
      "cell_type": "code",
      "source": [
        "# TODO: Complete this code\n",
        "# Import optimizer\n",
        "from torch.optim import SGD\n",
        "import matplotlib.pyplot as plt\n",
        "\n",
        "# TODO: Define the loss function and optimizer\n",
        "criterion =nn.CrossEntropyLoss()                # Crossentropy loss for classification\n",
        "optimizer = SGD(model.parameters(), lr=0.01)     # Stochastic Gradient Descent with learning rate 0.01\n",
        "\n",
        "\n",
        "# TODO: Set the number of epochs\n",
        "num_epochs =5\n",
        "\n",
        "# Training loop\n",
        "for epoch in range(num_epochs):\n",
        "    running_loss = 0.0\n",
        "    for images, labels in train_loader:\n",
        "        # TODO: Complete Training pass\n",
        "        images=images.view(-1,28*28)\n",
        "        optimizer.zero_grad()\n",
        "\n",
        "        # Forward pass\n",
        "        outputs = model(images)\n",
        "        loss = criterion(outputs, labels)\n",
        "        # Backward pass\n",
        "        loss.backward()  # Compute gradients\n",
        "        optimizer.step()  # Update weights\n",
        "        running_loss += loss.item()\n",
        "    else:\n",
        "        print(f\"Epoch {epoch+1}, Loss: {running_loss/len(train_loader)}\")\n",
        "\n",
        "\n",
        "    # TODO: evaluate on the test_loader\n",
        "    test_loss = 0.0\n",
        "    for images, labels in test_loader:\n",
        "        # TODO: Complete evaluation pass\n",
        "        images=images.view(-1,28*28)\n",
        "        # Forward pass\n",
        "        outputs = model(images)\n",
        "        loss = criterion(outputs, labels)\n",
        "        test_loss += loss.item()\n",
        "\n",
        "    else:\n",
        "        print(f\" Loss: {test_loss/len(test_loader)}\")\n",
        "print(\"Training is finished!\")"
      ],
      "metadata": {
        "id": "NqXh40htz2B6",
        "colab": {
          "base_uri": "https://localhost:8080/"
        },
        "outputId": "dc000028-ebd2-4c4f-f313-896924e70031"
      },
      "execution_count": null,
      "outputs": [
        {
          "output_type": "stream",
          "name": "stdout",
          "text": [
            "Epoch 1, Loss: 1.2063014279603959\n",
            " Loss: 0.505056496828225\n",
            "Epoch 2, Loss: 0.4190134655833244\n",
            " Loss: 0.3566528148949146\n",
            "Epoch 3, Loss: 0.34459696198503176\n",
            " Loss: 0.3182030480805856\n",
            "Epoch 4, Loss: 0.3114911368191242\n",
            " Loss: 0.28821987014524875\n",
            "Epoch 5, Loss: 0.2857320187687874\n",
            " Loss: 0.27647587546046565\n",
            "Training is finished!\n"
          ]
        }
      ]
    },
    {
      "cell_type": "code",
      "source": [
        "# TODO: plot the model complexity graph"
      ],
      "metadata": {
        "id": "ckEA5Ft_0gn8"
      },
      "execution_count": null,
      "outputs": []
    },
    {
      "cell_type": "markdown",
      "source": [
        "### TODO1: Comment the model complexity graph\n",
        "### TODO2: Change the model and add more layer (use a complex model)"
      ],
      "metadata": {
        "id": "Rh0gKqC50ST3"
      }
    },
    {
      "cell_type": "markdown",
      "source": [
        "## Implementing Early Stopping 🛑\n",
        "\n",
        "One of the key techniques in training neural networks effectively is 'Early Stopping'. This technique halts the training process if the model performance stops improving on a held-out validation set. Early stopping is a form of regularization used to avoid overfitting.\n",
        "\n",
        "### Key Concepts:\n",
        "- **Validation Loss**: Monitor the loss on a validation set to detect when it begins to increase, indicating overfitting."
      ],
      "metadata": {
        "id": "AzCT0HIA0nQf"
      }
    },
    {
      "cell_type": "code",
      "source": [
        "# TODO: Complete this code to implement Early stopping\n",
        "patience =5\n",
        "min_delta =0.001\n",
        "best_loss = None\n",
        "patience_counter = 0\n",
        "\n",
        "\n",
        "# Training loop with early stopping\n",
        "for epoch in range(num_epochs):\n",
        "    model.train()\n",
        "    running_loss = 0.0\n",
        "    for images, labels in train_loader:\n",
        "        # Training pass\n",
        "        images = images.view(-1, 28 * 28)  # Flatten the input images\n",
        "        optimizer.zero_grad()\n",
        " # Forward pass\n",
        "        outputs = model(images)\n",
        "        loss = criterion(outputs, labels)\n",
        "        # Backward pass\n",
        "        loss.backward()\n",
        "        optimizer.step()\n",
        "        running_loss += loss.item()\n",
        "\n",
        "    # evaluation phase\n",
        "    model.eval()\n",
        "    validation_loss = 0.0\n",
        "    with torch.no_grad():\n",
        "        for images, labels in validation_loader:\n",
        "          output = model(images)\n",
        "          validation_loss +=loss.item()\n",
        "\n",
        "    # Calculate average losses\n",
        "    training_loss = running_loss / len(train_loader)\n",
        "    validation_loss /= len(validation_loader)\n",
        "\n",
        "    print(f\"Epoch {epoch+1}, Training Loss: {training_loss}, Validation Loss: {validation_loss}\")\n",
        "\n",
        "    # Early stopping logic\n",
        "    if best_loss is None or validation_loss < best_loss - min_delta:\n",
        "        best_loss = validation_loss\n",
        "        patience_counter = 0\n",
        "    else:\n",
        "        patience_counter += 1\n",
        "        if patience_counter >= patience:\n",
        "            print(\"Early stopping triggered!\")\n",
        "            break\n",
        "\n",
        "print(\"Training is finished!\")"
      ],
      "metadata": {
        "id": "gDm6xmNB0mio",
        "colab": {
          "base_uri": "https://localhost:8080/"
        },
        "outputId": "51c98d81-eeda-4c16-901d-5dce2ed4677d"
      },
      "execution_count": null,
      "outputs": [
        {
          "output_type": "stream",
          "name": "stdout",
          "text": [
            "Epoch 1, Training Loss: 0.2660452375908693, Validation Loss: 0.22510701417922974\n",
            "Epoch 2, Training Loss: 0.24709166462222734, Validation Loss: 0.3037983775138855\n",
            "Epoch 3, Training Loss: 0.23109290633598964, Validation Loss: 0.4335508942604065\n",
            "Epoch 4, Training Loss: 0.21527726000050704, Validation Loss: 0.14417783915996552\n",
            "Epoch 5, Training Loss: 0.20155587737758954, Validation Loss: 0.13191726803779602\n",
            "Training is finished!\n"
          ]
        }
      ]
    },
    {
      "cell_type": "code",
      "source": [
        "# TODO: Answer this questions\n",
        "# What does min_delta and patience refer to ? min_delta and patience are updationg parameters used in early stopping to determine when to stop training\n",
        "# What is different from the first training ? the first training didn't use early stoppin and rely on test loader , however the second one use an early stopping approach and a validation loader instead to monitor the model performance"
      ],
      "metadata": {
        "id": "BW3uWpcW1RJJ"
      },
      "execution_count": null,
      "outputs": []
    },
    {
      "cell_type": "markdown",
      "source": [
        "## Experimenting with Dropout 🌧️\n",
        "\n",
        "Dropout is a regularization technique that temporarily drops units (along with their connections) from the neural network during training. This prevents units from co-adapting too much and helps the model to generalize better to unseen data.\n",
        "\n",
        "### Key Concepts:\n",
        "- **Dropout Rate**: The probability of a neuron being dropped during training. Common rates are 0.2, 0.5, etc.\n",
        "- **Generalization**: Dropout improves the generalization of the model on the test data.\n"
      ],
      "metadata": {
        "id": "Lg47wh8z1xvj"
      }
    },
    {
      "cell_type": "code",
      "source": [
        "class NetWithDropout(nn.Module):\n",
        "    def __init__(self):\n",
        "        super(NetWithDropout, self).__init__()\n",
        "        # Define layers of the neural network\n",
        "        self.fc1 = nn.Linear(28 * 28, 128)\n",
        "        self.dropout1 = nn.Dropout(0.2)  # Dropout layer with 20% probability\n",
        "        self.fc2 = nn.Linear(128, 64)\n",
        "        self.dropout2 = nn.Dropout(0.5)  # Dropout layer with 50% probability\n",
        "        self.fc3 = nn.Linear(64, 10)\n",
        "\n",
        "    def forward(self, x):\n",
        "        # Flatten the input tensor\n",
        "        x = x.view(-1, 28 * 28)\n",
        "        # Forward pass with dropout\n",
        "        x = F.relu(self.fc1(x))\n",
        "        x = self.dropout1(x)\n",
        "        x = F.relu(self.fc2(x))\n",
        "        x = self.dropout2(x)\n",
        "        x = self.fc3(x)\n",
        "        return x\n",
        "\n",
        "# Create an instance of the network with dropout\n",
        "model_with_dropout = NetWithDropout()\n",
        "print(model_with_dropout)"
      ],
      "metadata": {
        "id": "DjioUiV31brx",
        "colab": {
          "base_uri": "https://localhost:8080/"
        },
        "outputId": "da4f9d1f-db82-421a-a6fa-465041fb9598"
      },
      "execution_count": null,
      "outputs": [
        {
          "output_type": "stream",
          "name": "stdout",
          "text": [
            "NetWithDropout(\n",
            "  (fc1): Linear(in_features=784, out_features=128, bias=True)\n",
            "  (dropout1): Dropout(p=0.2, inplace=False)\n",
            "  (fc2): Linear(in_features=128, out_features=64, bias=True)\n",
            "  (dropout2): Dropout(p=0.5, inplace=False)\n",
            "  (fc3): Linear(in_features=64, out_features=10, bias=True)\n",
            ")\n"
          ]
        }
      ]
    },
    {
      "cell_type": "code",
      "source": [
        "# TODO: Train the dropout model\n",
        "# What do you notice ?\n",
        "import torch\n",
        "import torch.nn as nn\n",
        "import torch.nn.functional as F\n",
        "from torchvision import datasets, transforms\n",
        "from torch.utils.data import DataLoader, random_split\n",
        "from torch.optim import SGD\n",
        "import matplotlib.pyplot as plt\n",
        "\n",
        "# Define the model with dropout\n",
        "class NetWithDropout(nn.Module):\n",
        "    def __init__(self):\n",
        "        super(NetWithDropout, self).__init__()\n",
        "        self.fc1 = nn.Linear(28 * 28, 128)\n",
        "        self.dropout1 = nn.Dropout(0.2)  # Dropout layer with 20% probability\n",
        "        self.fc2 = nn.Linear(128, 64)\n",
        "        self.dropout2 = nn.Dropout(0.5)  # Dropout layer with 50% probability\n",
        "        self.fc3 = nn.Linear(64, 10)\n",
        "\n",
        "    def forward(self, x):\n",
        "        x = x.view(-1, 28 * 28)  # Flatten the input tensor\n",
        "        x = F.relu(self.fc1(x))\n",
        "        x = self.dropout1(x)\n",
        "        x = F.relu(self.fc2(x))\n",
        "        x = self.dropout2(x)\n",
        "        x = self.fc3(x)\n",
        "        return x\n",
        "\n",
        "# Create an instance of the network with dropout\n",
        "model_with_dropout = NetWithDropout()\n",
        "print(model_with_dropout)\n",
        "\n",
        "# Define a transform to normalize the data\n",
        "transform = transforms.Compose([transforms.ToTensor(), transforms.Normalize((0.5,), (0.5,))])\n",
        "\n",
        "# Load the MNIST dataset\n",
        "dataset = datasets.MNIST(root='./data', train=True, download=True, transform=transform)\n",
        "test_set = datasets.MNIST(root='./data', train=False, download=True, transform=transform)\n",
        "\n",
        "# Split the dataset into training and validation sets\n",
        "train_size = int(0.8 * len(dataset))\n",
        "validation_size = len(dataset) - train_size\n",
        "train_set, validation_set = random_split(dataset, [train_size, validation_size])\n",
        "\n",
        "# Create data loaders\n",
        "train_loader = DataLoader(train_set, batch_size=64, shuffle=True)\n",
        "validation_loader = DataLoader(validation_set, batch_size=64, shuffle=False)\n",
        "test_loader = DataLoader(test_set, batch_size=64, shuffle=False)\n",
        "\n",
        "# Define the loss function and optimizer\n",
        "criterion = nn.CrossEntropyLoss()\n",
        "optimizer = SGD(model_with_dropout.parameters(), lr=0.01)\n",
        "\n",
        "# Set the number of epochs\n",
        "num_epochs = 50\n",
        "\n",
        "# Early stopping parameters\n",
        "patience = 5\n",
        "min_delta = 0.001\n",
        "best_loss = None\n",
        "patience_counter = 0\n",
        "\n",
        "# Lists to store epoch-wise loss values\n",
        "train_losses = []\n",
        "validation_losses = []\n",
        "\n",
        "# Training loop with early stopping\n",
        "for epoch in range(num_epochs):\n",
        "    model_with_dropout.train()\n",
        "    running_loss = 0.0\n",
        "    for images, labels in train_loader:\n",
        "        images = images.view(-1, 28 * 28)\n",
        "        optimizer.zero_grad()\n",
        "\n",
        "        # Forward pass\n",
        "        outputs = model_with_dropout(images)\n",
        "        loss = criterion(outputs, labels)\n",
        "\n",
        "        # Backward pass\n",
        "        loss.backward()\n",
        "        optimizer.step()\n",
        "\n",
        "        running_loss += loss.item()\n",
        "\n",
        "    # Evaluation phase\n",
        "    model_with_dropout.eval()\n",
        "    validation_loss = 0.0\n",
        "    with torch.no_grad():\n",
        "        for images, labels in validation_loader:\n",
        "            images = images.view(-1, 28 * 28)\n",
        "            output = model_with_dropout(images)\n",
        "            loss = criterion(output, labels)\n",
        "            validation_loss += loss.item()\n",
        "\n",
        "    # Calculate average losses\n",
        "    training_loss = running_loss / len(train_loader)\n",
        "    validation_loss /= len(validation_loader)\n",
        "\n",
        "    train_losses.append(training_loss)\n",
        "    validation_losses.append(validation_loss)\n",
        "\n",
        "    print(f\"Epoch {epoch+1}, Training Loss: {training_loss}, Validation Loss: {validation_loss}\")\n",
        "\n",
        "    # Early stopping logic\n",
        "    if best_loss is None or validation_loss < best_loss - min_delta:\n",
        "        best_loss = validation_loss\n",
        "        patience_counter = 0\n",
        "    else:\n",
        "        patience_counter += 1\n",
        "        if patience_counter >= patience:\n",
        "            print(\"Early stopping triggered!\")\n",
        "            break\n",
        "\n",
        "print(\"Training is finished!\")\n",
        "\n",
        "# Plot the training and validation loss\n",
        "plt.plot(range(1, len(train_losses) + 1), train_losses, label='Training Loss')\n",
        "plt.plot(range(1, len(validation_losses) + 1), validation_losses, label='Validation Loss')\n",
        "plt.xlabel('Epochs')\n",
        "plt.ylabel('Loss')\n",
        "plt.legend()\n",
        "plt.title('Training and Validation Loss per Epoch')\n",
        "plt.show()\n"
      ],
      "metadata": {
        "id": "VBR_MqON15ch",
        "colab": {
          "base_uri": "https://localhost:8080/",
          "height": 1000
        },
        "outputId": "fdcb37cd-20dd-4971-b88a-011479d734bc"
      },
      "execution_count": null,
      "outputs": [
        {
          "output_type": "stream",
          "name": "stdout",
          "text": [
            "NetWithDropout(\n",
            "  (fc1): Linear(in_features=784, out_features=128, bias=True)\n",
            "  (dropout1): Dropout(p=0.2, inplace=False)\n",
            "  (fc2): Linear(in_features=128, out_features=64, bias=True)\n",
            "  (dropout2): Dropout(p=0.5, inplace=False)\n",
            "  (fc3): Linear(in_features=64, out_features=10, bias=True)\n",
            ")\n",
            "Epoch 1, Training Loss: 1.539399202823639, Validation Loss: 0.6795604878917654\n",
            "Epoch 2, Training Loss: 0.7461558206478754, Validation Loss: 0.4432566837268941\n",
            "Epoch 3, Training Loss: 0.5780224156181017, Validation Loss: 0.3666848303314219\n",
            "Epoch 4, Training Loss: 0.49408490721384685, Validation Loss: 0.3159375790744386\n",
            "Epoch 5, Training Loss: 0.44314633357524874, Validation Loss: 0.2878537317143476\n",
            "Epoch 6, Training Loss: 0.4026669276356697, Validation Loss: 0.2659951418717491\n",
            "Epoch 7, Training Loss: 0.3716793645521005, Validation Loss: 0.2465584700174154\n",
            "Epoch 8, Training Loss: 0.3465535300672054, Validation Loss: 0.22646161608715007\n",
            "Epoch 9, Training Loss: 0.33055806714296343, Validation Loss: 0.22070327111856736\n",
            "Epoch 10, Training Loss: 0.3121430272956689, Validation Loss: 0.2035713920250852\n",
            "Epoch 11, Training Loss: 0.29718102551500003, Validation Loss: 0.1973478335371994\n",
            "Epoch 12, Training Loss: 0.28370808843771617, Validation Loss: 0.1883680980771463\n",
            "Epoch 13, Training Loss: 0.27243544937173525, Validation Loss: 0.1764437525552955\n",
            "Epoch 14, Training Loss: 0.26137586949268976, Validation Loss: 0.17515314477396773\n",
            "Epoch 15, Training Loss: 0.2507851590514183, Validation Loss: 0.1644924874318407\n",
            "Epoch 16, Training Loss: 0.2437850478043159, Validation Loss: 0.15852994240443916\n",
            "Epoch 17, Training Loss: 0.2372732414404551, Validation Loss: 0.15363306119205786\n",
            "Epoch 18, Training Loss: 0.2226395695110162, Validation Loss: 0.15010184622766015\n",
            "Epoch 19, Training Loss: 0.22082450695335865, Validation Loss: 0.1413736114268528\n",
            "Epoch 20, Training Loss: 0.20957177797953289, Validation Loss: 0.13908980343431393\n",
            "Epoch 21, Training Loss: 0.2081952268232902, Validation Loss: 0.1379785519786813\n",
            "Epoch 22, Training Loss: 0.2005788801064094, Validation Loss: 0.13578035509550668\n",
            "Epoch 23, Training Loss: 0.19788471296429633, Validation Loss: 0.13398110395436116\n",
            "Epoch 24, Training Loss: 0.1937664532562097, Validation Loss: 0.12845034221127788\n",
            "Epoch 25, Training Loss: 0.18808295259376367, Validation Loss: 0.12672951946312444\n",
            "Epoch 26, Training Loss: 0.1836841304153204, Validation Loss: 0.1230898252192964\n",
            "Epoch 27, Training Loss: 0.1790577926983436, Validation Loss: 0.12835217213525654\n",
            "Epoch 28, Training Loss: 0.1726190578341484, Validation Loss: 0.12170790234441928\n",
            "Epoch 29, Training Loss: 0.17228885729114216, Validation Loss: 0.1213894825914201\n",
            "Epoch 30, Training Loss: 0.166385771907866, Validation Loss: 0.11765668691046774\n",
            "Epoch 31, Training Loss: 0.1686144271294276, Validation Loss: 0.11803149747008339\n",
            "Epoch 32, Training Loss: 0.1637605075960358, Validation Loss: 0.11276564532841378\n",
            "Epoch 33, Training Loss: 0.1585344820395112, Validation Loss: 0.11201986841773218\n",
            "Epoch 34, Training Loss: 0.15548133124162752, Validation Loss: 0.1111515832079099\n",
            "Epoch 35, Training Loss: 0.15459078715493282, Validation Loss: 0.10919858959498518\n",
            "Epoch 36, Training Loss: 0.14811093681554, Validation Loss: 0.11147550673303293\n",
            "Epoch 37, Training Loss: 0.14471634064118066, Validation Loss: 0.10788756763646776\n",
            "Epoch 38, Training Loss: 0.14669897806892793, Validation Loss: 0.10791247408896526\n",
            "Epoch 39, Training Loss: 0.14248105092843374, Validation Loss: 0.10555093314379771\n",
            "Epoch 40, Training Loss: 0.14251489797234534, Validation Loss: 0.1030176775455673\n",
            "Epoch 41, Training Loss: 0.13601467392841976, Validation Loss: 0.10242214547395904\n",
            "Epoch 42, Training Loss: 0.13893913293629884, Validation Loss: 0.10113761291908537\n",
            "Epoch 43, Training Loss: 0.13511088725179435, Validation Loss: 0.10366181858587376\n",
            "Epoch 44, Training Loss: 0.13357184591889382, Validation Loss: 0.09890891032967161\n",
            "Epoch 45, Training Loss: 0.13326460074881713, Validation Loss: 0.10069864048087533\n",
            "Epoch 46, Training Loss: 0.12806315352519354, Validation Loss: 0.10040877939281152\n",
            "Epoch 47, Training Loss: 0.12831639436384043, Validation Loss: 0.1020041091090187\n",
            "Epoch 48, Training Loss: 0.12297103803108136, Validation Loss: 0.09863618944097866\n",
            "Epoch 49, Training Loss: 0.1224780498445034, Validation Loss: 0.10002699769300191\n",
            "Early stopping triggered!\n",
            "Training is finished!\n"
          ]
        },
        {
          "output_type": "display_data",
          "data": {
            "text/plain": [
              "<Figure size 640x480 with 1 Axes>"
            ],
            "image/png": "[encoded data removed]"
          },
          "metadata": {}
        }
      ]
    },
    {
      "cell_type": "markdown",
      "source": [
        "## Submitting Your Project on GitHub 🚀\n",
        "\n",
        "\n",
        "Submitting your project on GitHub not only allows you to showcase your work but also helps in version control and collaboration. Here's how you can do it:\n",
        "\n",
        "### Step 1: Create a New Repository on GitHub\n",
        "1. **Sign in to GitHub**: Go to [GitHub](https://github.com) and sign in with your account.\n",
        "2. **Create a New Repository**: Click on the '+' icon in the top right corner and select 'New repository'.\n",
        "3. **Name Your Repository**: Give your repository a meaningful name, like 'handwritten-digit-recognition'.\n",
        "4. **Initialize with a README**: Check the box 'Initialize this repository with a README'.\n",
        "5. **Create Repository**: Click the 'Create repository' button.\n",
        "\n",
        "### Step 2: Clone the Repository to Your Local Machine\n",
        "1. **Copy the Repository URL**: On your repository page on GitHub, click the 'Code' button and copy the URL.\n",
        "2. **Clone in Terminal**: Open your terminal, navigate to where you want the repository, and run `git clone [URL]`, replacing `[URL]` with the URL you copied.\n",
        "\n",
        "### Step 3: Add Your Project to the Repository\n",
        "1. **Copy Your Notebook**: Place your Jupyter notebook file into the cloned repository folder on your local machine.\n",
        "2. **Add the File**: Run `git add [filename]` in your terminal, replacing `[filename]` with the name of your notebook file.\n",
        "\n",
        "### Step 4: Commit and Push Your Changes\n",
        "1. **Commit Your Changes**: Run `git commit -m \"Add project notebook\"`.\n",
        "2. **Push to GitHub**: Run `git push` to push your changes to the GitHub repository.\n",
        "\n",
        "### Step 5: Create and Edit the README File\n",
        "1. **Edit README.md**: On GitHub, open the README.md file and click the pencil icon to edit.\n",
        "2. **Write Your README**: Include a project title, a brief description, installation instructions, and usage instructions. Optionally, add screenshots or additional sections as needed.\n",
        "3. **Save Changes**: After editing, commit your changes by clicking 'Commit changes' at the bottom.\n",
        "\n",
        "### 📌 TODOs for Submission:\n",
        "- Ensure your Jupyter notebook is well-commented and formatted.\n",
        "- Write a clear, concise README that effectively describes your project.\n",
        "- Double-check that all files have been committed and pushed to your GitHub repository.\n",
        "\n",
        "---\n",
        "\n",
        "Remember, a well-documented GitHub repository not only reflects your technical skills but also your ability to communicate and present your work effectively. Happy coding and best of luck with your project submission! 🌟👩‍💻👨‍💻\n"
      ],
      "metadata": {
        "id": "TaKBLDTE15Iy"
      }
    }
  ]
}